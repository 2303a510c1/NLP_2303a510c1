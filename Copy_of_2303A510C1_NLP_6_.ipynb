{
  "nbformat": 4,
  "nbformat_minor": 0,
  "metadata": {
    "colab": {
      "provenance": [],
      "include_colab_link": true
    },
    "kernelspec": {
      "name": "python3",
      "display_name": "Python 3"
    },
    "language_info": {
      "name": "python"
    }
  },
  "cells": [
    {
      "cell_type": "markdown",
      "metadata": {
        "id": "view-in-github",
        "colab_type": "text"
      },
      "source": [
        "<a href=\"https://colab.research.google.com/github/2303a510c1/NLP_2303a510c1/blob/main/Copy_of_2303A510C1_NLP_6_.ipynb\" target=\"_parent\"><img src=\"https://colab.research.google.com/assets/colab-badge.svg\" alt=\"Open In Colab\"/></a>"
      ]
    },
    {
      "cell_type": "code",
      "source": [
        "import pandas as pd"
      ],
      "metadata": {
        "id": "He8XGnBFyEf5"
      },
      "execution_count": 1,
      "outputs": []
    },
    {
      "cell_type": "code",
      "source": [
        "d = pd.read_csv(\"/content/bbc_news_text_complexity_summarization.csv\")\n",
        "print(d)"
      ],
      "metadata": {
        "colab": {
          "base_uri": "https://localhost:8080/",
          "height": 0
        },
        "id": "DyYRbX8xyEie",
        "outputId": "8176b589-364e-4815-a681-d243f07cea39"
      },
      "execution_count": 6,
      "outputs": [
        {
          "output_type": "stream",
          "name": "stdout",
          "text": [
            "                                                   text    labels  \\\n",
            "0     Ad sales boost Time Warner profit\\n\\nQuarterly...  business   \n",
            "1     Dollar gains on Greenspan speech\\n\\nThe dollar...  business   \n",
            "2     Yukos unit buyer faces loan claim\\n\\nThe owner...  business   \n",
            "3     High fuel prices hit BA's profits\\n\\nBritish A...  business   \n",
            "4     Pernod takeover talk lifts Domecq\\n\\nShares in...  business   \n",
            "...                                                 ...       ...   \n",
            "2122  New consoles promise big problems\\n\\nMaking ga...      tech   \n",
            "2123  BT program to beat dialler scams\\n\\nBT is intr...      tech   \n",
            "2124  Be careful how you code\\n\\nA new European dire...      tech   \n",
            "2125  US cyber security chief resigns\\n\\nThe man mak...      tech   \n",
            "2126  Losing yourself in online gaming\\n\\nOnline rol...      tech   \n",
            "\n",
            "      no_sentences  Flesch Reading Ease Score  Dale-Chall Readability Score  \\\n",
            "0               26                      62.17                          9.72   \n",
            "1               17                      65.56                          9.09   \n",
            "2               14                      69.21                          9.66   \n",
            "3               24                      62.98                          9.86   \n",
            "4               17                      70.63                         10.23   \n",
            "...            ...                        ...                           ...   \n",
            "2122            52                      60.85                          9.20   \n",
            "2123            17                      56.29                          9.23   \n",
            "2124            45                      56.29                          8.73   \n",
            "2125            16                      47.42                          9.14   \n",
            "2126           149                      68.91                          7.15   \n",
            "\n",
            "                                      text_rank_summary  \\\n",
            "0     It hopes to increase subscribers by offering t...   \n",
            "1     The dollar has hit its highest level against t...   \n",
            "2     The owners of embattled Russian oil giant Yuko...   \n",
            "3     Looking ahead to its full year results to Marc...   \n",
            "4     Reports in the Wall Street Journal and the Fin...   \n",
            "...                                                 ...   \n",
            "2122  Instead of employing lots of artists to create...   \n",
            "2123  If a bill rises substantially above its usual ...   \n",
            "2124  If it gets its way, the Dutch government will ...   \n",
            "2125  Amit Yoran was director of the National Cyber ...   \n",
            "2126  One unnamed correspondent - all are anonymous ...   \n",
            "\n",
            "                                            lsa_summary  \n",
            "0     Its profits were buoyed by one-off gains which...  \n",
            "1     \"I think the chairman's taking a much more san...  \n",
            "2     Yukos' owner Menatep Group says it will ask Ro...  \n",
            "3     Rod Eddington, BA's chief executive, said the ...  \n",
            "4     Shares in UK drinks and food firm Allied Domec...  \n",
            "...                                                 ...  \n",
            "2122  Mr Wright said that enabling players to devise...  \n",
            "2123  BT is introducing two initiatives to help beat...  \n",
            "2124  A new European directive could put software wr...  \n",
            "2125  The man making sure US computer networks are s...  \n",
            "2126  Shame they are getting more popular, as you kn...  \n",
            "\n",
            "[2127 rows x 7 columns]\n"
          ]
        }
      ]
    },
    {
      "cell_type": "code",
      "source": [
        "print(d[\"text\"])"
      ],
      "metadata": {
        "colab": {
          "base_uri": "https://localhost:8080/",
          "height": 0
        },
        "id": "v71bi7LGyEls",
        "outputId": "b12124cc-ff5f-4655-a4b2-274af7418e7f"
      },
      "execution_count": 7,
      "outputs": [
        {
          "output_type": "stream",
          "name": "stdout",
          "text": [
            "0       Ad sales boost Time Warner profit\\n\\nQuarterly...\n",
            "1       Dollar gains on Greenspan speech\\n\\nThe dollar...\n",
            "2       Yukos unit buyer faces loan claim\\n\\nThe owner...\n",
            "3       High fuel prices hit BA's profits\\n\\nBritish A...\n",
            "4       Pernod takeover talk lifts Domecq\\n\\nShares in...\n",
            "                              ...                        \n",
            "2122    New consoles promise big problems\\n\\nMaking ga...\n",
            "2123    BT program to beat dialler scams\\n\\nBT is intr...\n",
            "2124    Be careful how you code\\n\\nA new European dire...\n",
            "2125    US cyber security chief resigns\\n\\nThe man mak...\n",
            "2126    Losing yourself in online gaming\\n\\nOnline rol...\n",
            "Name: text, Length: 2127, dtype: object\n"
          ]
        }
      ]
    },
    {
      "cell_type": "code",
      "source": [
        "import nltk\n",
        "nltk.download('punkt')"
      ],
      "metadata": {
        "colab": {
          "base_uri": "https://localhost:8080/",
          "height": 0
        },
        "id": "iwKgZyeQybtP",
        "outputId": "d6dfc722-6e84-466a-bfe2-65826dd1585c"
      },
      "execution_count": 8,
      "outputs": [
        {
          "output_type": "stream",
          "name": "stderr",
          "text": [
            "[nltk_data] Downloading package punkt to /root/nltk_data...\n",
            "[nltk_data]   Package punkt is already up-to-date!\n"
          ]
        },
        {
          "output_type": "execute_result",
          "data": {
            "text/plain": [
              "True"
            ]
          },
          "metadata": {},
          "execution_count": 8
        }
      ]
    },
    {
      "cell_type": "code",
      "source": [
        "nltk.download('punkt_tab')\n",
        "nltk.download('stopwords')"
      ],
      "metadata": {
        "colab": {
          "base_uri": "https://localhost:8080/",
          "height": 0
        },
        "id": "6RXYGwfgzB1v",
        "outputId": "622b73c5-6dcc-40c8-c83c-4ff9248d64f2"
      },
      "execution_count": 9,
      "outputs": [
        {
          "output_type": "stream",
          "name": "stderr",
          "text": [
            "[nltk_data] Downloading package punkt_tab to /root/nltk_data...\n",
            "[nltk_data]   Unzipping tokenizers/punkt_tab.zip.\n",
            "[nltk_data] Downloading package stopwords to /root/nltk_data...\n",
            "[nltk_data]   Unzipping corpora/stopwords.zip.\n"
          ]
        },
        {
          "output_type": "execute_result",
          "data": {
            "text/plain": [
              "True"
            ]
          },
          "metadata": {},
          "execution_count": 9
        }
      ]
    },
    {
      "cell_type": "code",
      "source": [],
      "metadata": {
        "id": "MZ9IYC6J6vBk"
      },
      "execution_count": 16,
      "outputs": []
    },
    {
      "cell_type": "code",
      "source": [
        "from nltk.corpus import stopwords\n",
        "from sklearn.feature_extraction.text import CountVectorizer\n",
        "import string\n",
        "import re"
      ],
      "metadata": {
        "id": "yunwWheQzXn9"
      },
      "execution_count": 13,
      "outputs": []
    },
    {
      "cell_type": "markdown",
      "source": [
        "now i this collom in the text"
      ],
      "metadata": {
        "id": "Y7pNcMlm0uo_"
      }
    },
    {
      "cell_type": "code",
      "source": [
        "def preprocess_text(text):\n",
        "\n",
        "  text = text.lower()\n",
        "  text=text.translate(str.maketrans('', '', string.punctuation))\n",
        "  text = re.sub(r'[^a-zA-Z0-9\\n]',' \"',text)\n",
        "\n",
        "\n",
        "  tokens=nltk.word_tokenize(text)\n",
        "  stopwords=nltk.corpus.stopwords.words('english')\n",
        "  tokens=[word for word in tokens if word not in stopwords]\n",
        "  return text"
      ],
      "metadata": {
        "id": "HgJm6QV2zXrk"
      },
      "execution_count": 14,
      "outputs": []
    },
    {
      "cell_type": "markdown",
      "source": [
        "remove the punctuation"
      ],
      "metadata": {
        "id": "7eWJSpk11MIw"
      }
    },
    {
      "cell_type": "code",
      "source": [
        "\n",
        "d['clea_data']=d[\"text\"].astype(str).apply(preprocess_text)\n",
        "d['clea_data'] = d['clea_data'].str.replace(r\"\\n\", \" \", regex=True)\n",
        "\n",
        "\n"
      ],
      "metadata": {
        "id": "CbNxJSj71LRs"
      },
      "execution_count": 19,
      "outputs": []
    },
    {
      "cell_type": "code",
      "source": [
        "print( d['clea_data'])"
      ],
      "metadata": {
        "colab": {
          "base_uri": "https://localhost:8080/",
          "height": 0
        },
        "id": "L0yV-uJC21w_",
        "outputId": "7532a407-083b-4563-fd07-f94e6f196235"
      },
      "execution_count": 18,
      "outputs": [
        {
          "output_type": "stream",
          "name": "stdout",
          "text": [
            "0       ad \"sales \"boost \"time \"warner \"profit  quarte...\n",
            "1       dollar \"gains \"on \"greenspan \"speech  the \"dol...\n",
            "2       yukos \"unit \"buyer \"faces \"loan \"claim  the \"o...\n",
            "3       high \"fuel \"prices \"hit \"bas \"profits  british...\n",
            "4       pernod \"takeover \"talk \"lifts \"domecq  shares ...\n",
            "                              ...                        \n",
            "2122    new \"consoles \"promise \"big \"problems  making ...\n",
            "2123    bt \"program \"to \"beat \"dialler \"scams  bt \"is ...\n",
            "2124    be \"careful \"how \"you \"code  a \"new \"european ...\n",
            "2125    us \"cyber \"security \"chief \"resigns  the \"man ...\n",
            "2126    losing \"yourself \"in \"online \"gaming  online \"...\n",
            "Name: clea_data, Length: 2127, dtype: object\n"
          ]
        }
      ]
    }
  ]
}